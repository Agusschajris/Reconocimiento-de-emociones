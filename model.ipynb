{
 "cells": [
  {
   "cell_type": "markdown",
   "metadata": {},
   "source": [
    "# Modelo de reconocimiento de emociones\n",
    "dataset: https://www.kaggle.com/datasets/msambare/fer2013/"
   ]
  },
  {
   "cell_type": "code",
   "execution_count": 12,
   "metadata": {},
   "outputs": [],
   "source": [
    "import pandas as pd\n",
    "import numpy as np\n",
    "import tensorflow as tf\n",
    "import os\n",
    "from PIL import Image"
   ]
  },
  {
   "cell_type": "code",
   "execution_count": 3,
   "metadata": {},
   "outputs": [],
   "source": [
    "train_data = 'C:\\\\Users\\\\AGUSTINA\\\\OneDrive\\\\Documentos\\\\GitHub\\\\Reconocimiento-de-emociones\\\\FER-2013\\\\train'\n",
    "test_data = 'C:\\\\Users\\\\AGUSTINA\\\\OneDrive\\\\Documentos\\\\GitHub\\\\Reconocimiento-de-emociones\\\\FER-2013\\\\test'"
   ]
  },
  {
   "cell_type": "code",
   "execution_count": 4,
   "metadata": {},
   "outputs": [
    {
     "data": {
      "text/plain": [
       "['angry', 'disgust', 'fear', 'happy', 'neutral', 'sad', 'surprise']"
      ]
     },
     "execution_count": 4,
     "metadata": {},
     "output_type": "execute_result"
    }
   ],
   "source": [
    "classes = clases = os.listdir(train_data)\n",
    "classes"
   ]
  },
  {
   "cell_type": "code",
   "execution_count": 9,
   "metadata": {},
   "outputs": [],
   "source": [
    "#agrego las labels y hago el preprocesamiento de los datos\n",
    "def add_label (data):\n",
    "    images = []\n",
    "    labels = []\n",
    "    for clas in classes:\n",
    "        class_path = os.path.join(data, clas)\n",
    "        for image_name in os.listdir(class_path):\n",
    "            image_path = os.path.join(class_path, image_name)\n",
    "            image = Image.open(image_path)\n",
    "\n",
    "            #transformo a la imagen en un array de numpy\n",
    "            image = np.array(image)\n",
    "            \n",
    "            images.append(image)\n",
    "            labels.append(clas)\n",
    "\n",
    "    return images, labels"
   ]
  },
  {
   "cell_type": "code",
   "execution_count": 13,
   "metadata": {},
   "outputs": [],
   "source": [
    "X_train, y_train = add_label(train_data)\n",
    "X_test, y_test = add_label(test_data)"
   ]
  },
  {
   "cell_type": "code",
   "execution_count": null,
   "metadata": {},
   "outputs": [],
   "source": []
  }
 ],
 "metadata": {
  "kernelspec": {
   "display_name": "Python 3",
   "language": "python",
   "name": "python3"
  },
  "language_info": {
   "codemirror_mode": {
    "name": "ipython",
    "version": 3
   },
   "file_extension": ".py",
   "mimetype": "text/x-python",
   "name": "python",
   "nbconvert_exporter": "python",
   "pygments_lexer": "ipython3",
   "version": "3.10.0"
  }
 },
 "nbformat": 4,
 "nbformat_minor": 2
}
